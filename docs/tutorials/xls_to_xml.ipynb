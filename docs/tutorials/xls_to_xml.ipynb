{
 "cells": [
  {
   "cell_type": "markdown",
   "metadata": {},
   "source": [
    "# Xlsx to xml\n",
    "\n",
    "In this tutorial we test the conversion of an xlsx file to xml. We do this with the `zipfile` module"
   ]
  },
  {
   "cell_type": "code",
   "execution_count": 2,
   "metadata": {},
   "outputs": [],
   "source": [
    "import zipfile"
   ]
  },
  {
   "cell_type": "code",
   "execution_count": 3,
   "metadata": {},
   "outputs": [],
   "source": [
    "path_to_xlsx_file = \"../../Geodata_Input_Template_2023-03-08.xlsx\"\n",
    "\n",
    "directory_to_extract_to =\"data/xml\"\n",
    "with zipfile.ZipFile(path_to_xlsx_file, \"r\") as zip_ref:\n",
    "    zip_ref.extractall(directory_to_extract_to)"
   ]
  },
  {
   "cell_type": "markdown",
   "metadata": {},
   "source": [
    "It will be quite interesting to extract some general definition from the xml file here."
   ]
  }
 ],
 "metadata": {
  "kernelspec": {
   "display_name": "geodata-model",
   "language": "python",
   "name": "python3"
  },
  "language_info": {
   "codemirror_mode": {
    "name": "ipython",
    "version": 3
   },
   "file_extension": ".py",
   "mimetype": "text/x-python",
   "name": "python",
   "nbconvert_exporter": "python",
   "pygments_lexer": "ipython3",
   "version": "3.11.3"
  }
 },
 "nbformat": 4,
 "nbformat_minor": 2
}
