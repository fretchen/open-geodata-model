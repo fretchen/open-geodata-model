{
 "cells": [
  {
   "cell_type": "markdown",
   "metadata": {},
   "source": [
    "# Xlsx to xml\n",
    "\n",
    "In this tutorial we test the conversion of an xlsx file to xml. We do this with the `zipfile` module"
   ]
  },
  {
   "cell_type": "code",
   "execution_count": 2,
   "metadata": {},
   "outputs": [],
   "source": [
    "import zipfile"
   ]
  },
  {
   "cell_type": "code",
   "execution_count": 3,
   "metadata": {},
   "outputs": [],
   "source": [
    "path_to_xlsx_file = \"../../Geodata_Input_Template_2023-03-08.xlsx\"\n",
    "\n",
    "directory_to_extract_to =\"data/xml\"\n",
    "with zipfile.ZipFile(path_to_xlsx_file, \"r\") as zip_ref:\n",
    "    zip_ref.extractall(directory_to_extract_to)"
   ]
  },
  {
   "cell_type": "markdown",
   "metadata": {},
   "source": [
    "It will be quite interesting to extract some general definition from the xml file here."
   ]
  },
  {
   "cell_type": "markdown",
   "metadata": {},
   "source": [
    "# xlsform\n",
    "\n",
    "There is also another path through [xform](https://github.com/XLSForm/pyxform/blob/master/tests/test_xls2xform.py). However, for the moment I can only find this as CLI tool. the command to run is\n",
    "\n",
    "```\n",
    "poetry run xls2xform ../../Geodata_Input_Template_2023-03-08.xlsx data\n",
    "```\n"
   ]
  },
  {
   "cell_type": "code",
   "execution_count": 4,
   "metadata": {},
   "outputs": [
    {
     "name": "stdout",
     "output_type": "stream",
     "text": [
      "Traceback (most recent call last):\n",
      "  File \"/Users/fredjendrzejewski/Library/Caches/pypoetry/virtualenvs/open-geodata-model--UoVvXim-py3.12/bin/xls2xform\", line 8, in <module>\n",
      "    sys.exit(main_cli())\n",
      "             ^^^^^^^^^^\n",
      "  File \"/Users/fredjendrzejewski/Library/Caches/pypoetry/virtualenvs/open-geodata-model--UoVvXim-py3.12/lib/python3.12/site-packages/pyxform/xls2xform.py\", line 170, in main_cli\n",
      "    warnings = xls2xform_convert(\n",
      "               ^^^^^^^^^^^^^^^^^^\n",
      "  File \"/Users/fredjendrzejewski/Library/Caches/pypoetry/virtualenvs/open-geodata-model--UoVvXim-py3.12/lib/python3.12/site-packages/pyxform/xls2xform.py\", line 36, in xls2xform_convert\n",
      "    json_survey = xls2json.parse_file_to_json(xlsform_path, warnings=warnings)\n",
      "                  ^^^^^^^^^^^^^^^^^^^^^^^^^^^^^^^^^^^^^^^^^^^^^^^^^^^^^^^^^^^^\n",
      "  File \"/Users/fredjendrzejewski/Library/Caches/pypoetry/virtualenvs/open-geodata-model--UoVvXim-py3.12/lib/python3.12/site-packages/pyxform/xls2json.py\", line 1609, in parse_file_to_json\n",
      "    return workbook_to_json(\n",
      "           ^^^^^^^^^^^^^^^^^\n",
      "  File \"/Users/fredjendrzejewski/Library/Caches/pypoetry/virtualenvs/open-geodata-model--UoVvXim-py3.12/lib/python3.12/site-packages/pyxform/xls2json.py\", line 429, in workbook_to_json\n",
      "    raise PyXFormError(msg)\n",
      "pyxform.errors.PyXFormError: You must have a sheet named 'survey'. \n",
      "\n"
     ]
    }
   ],
   "source": [
    "import subprocess\n",
    "\n",
    "# Define the command as string\n",
    "command = \"xls2xform ../../Geodata_Input_Template_2023-03-08.xlsx data\"\n",
    "\n",
    "# Execute the command\n",
    "try:\n",
    "    process = subprocess.run(command, shell=True, check=True, text=True, capture_output=True)\n",
    "    print(process.stdout)\n",
    "except subprocess.CalledProcessError as e:\n",
    "    print(e.stderr)\n"
   ]
  }
 ],
 "metadata": {
  "kernelspec": {
   "display_name": "geodata-model",
   "language": "python",
   "name": "python3"
  },
  "language_info": {
   "codemirror_mode": {
    "name": "ipython",
    "version": 3
   },
   "file_extension": ".py",
   "mimetype": "text/x-python",
   "name": "python",
   "nbconvert_exporter": "python",
   "pygments_lexer": "ipython3",
   "version": "3.12.1"
  }
 },
 "nbformat": 4,
 "nbformat_minor": 2
}
